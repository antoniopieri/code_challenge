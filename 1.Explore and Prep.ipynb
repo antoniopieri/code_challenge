{
 "cells": [
  {
   "cell_type": "code",
   "execution_count": 1,
   "metadata": {},
   "outputs": [],
   "source": [
    "import numpy as np\n",
    "import pandas as pd\n",
    "\n",
    "import matplotlib.pyplot as plt\n",
    "import seaborn as sns\n",
    "import re\n"
   ]
  },
  {
   "cell_type": "markdown",
   "metadata": {},
   "source": [
    "# Read in all three datasets"
   ]
  },
  {
   "cell_type": "code",
   "execution_count": 2,
   "metadata": {},
   "outputs": [],
   "source": [
    "books=pd.read_csv('books_out.csv')\n",
    "borrowers=pd.read_csv('borrowers_out.csv')\n",
    "rentals=pd.read_csv('rentals_out.csv')"
   ]
  },
  {
   "cell_type": "markdown",
   "metadata": {},
   "source": [
    "# Examine books\n",
    "\n",
    "Observations\n",
    "\n",
    "* publication date is an object\n",
    "* there are no NaN values :)"
   ]
  },
  {
   "cell_type": "code",
   "execution_count": 3,
   "metadata": {},
   "outputs": [
    {
     "name": "stdout",
     "output_type": "stream",
     "text": [
      "              UID           author  length publication_date  rental_period  \\\n",
      "0  81490378501273    Leslie Godwin     292       1985-11-30              7   \n",
      "1   2265183237865  Theresa Scruggs      51       1922-02-15             30   \n",
      "2  38355930389954    Elaine Turner      51       1990-02-27             30   \n",
      "3  12676076159906  Claretta Dewitt     308       1988-06-23              7   \n",
      "4  17366175799537   Douglas Barrio     243       1961-01-29             30   \n",
      "\n",
      "            subject                                             title  \n",
      "0         Religious  wispy Hiawatha Midwestern prolix sanitarium aloe  \n",
      "1             SciFi                deterrent someday indent decennial  \n",
      "2  Religious Novels          aquatic certificate flatus flowery slack  \n",
      "3        HISTORICAL              pre scald pillage minor incomputable  \n",
      "4           Fantasy                         hateful division Malagasy  \n",
      "                UID       length  rental_period\n",
      "count  2.999000e+03  2999.000000    2999.000000\n",
      "mean   5.095505e+13   300.151717      25.559520\n",
      "std    2.877790e+13   143.232411       9.079684\n",
      "min    5.453121e+10    26.000000       7.000000\n",
      "25%    2.602883e+13   195.000000      30.000000\n",
      "50%    5.180764e+13   301.000000      30.000000\n",
      "75%    7.591689e+13   398.000000      30.000000\n",
      "max    9.996550e+13   787.000000      30.000000\n",
      "<class 'pandas.core.frame.DataFrame'>\n",
      "RangeIndex: 2999 entries, 0 to 2998\n",
      "Data columns (total 7 columns):\n",
      "UID                 2999 non-null int64\n",
      "author              2999 non-null object\n",
      "length              2999 non-null int64\n",
      "publication_date    2999 non-null object\n",
      "rental_period       2999 non-null int64\n",
      "subject             2999 non-null object\n",
      "title               2999 non-null object\n",
      "dtypes: int64(3), object(4)\n",
      "memory usage: 164.1+ KB\n",
      "None\n",
      "(2999, 7)\n"
     ]
    }
   ],
   "source": [
    "print(books.head())\n",
    "print(books.describe())\n",
    "print(books.info())\n",
    "print(books.shape)\n"
   ]
  },
  {
   "cell_type": "markdown",
   "metadata": {},
   "source": [
    "# Examine borrowers\n",
    "\n",
    "Observations\n",
    "\n",
    "* join date, date is an object\n",
    "* there are no NaN values"
   ]
  },
  {
   "cell_type": "code",
   "execution_count": 4,
   "metadata": {},
   "outputs": [
    {
     "name": "stdout",
     "output_type": "stream",
     "text": [
      "          DoB             UID address ethnic_group gender   join_date\n",
      "0  1964-05-26   6407399394844    M1 2            D      M  1981-08-20\n",
      "1  1935-10-19  76509601043881   M24 4            D      M  1973-10-14\n",
      "2  1937-03-01   6792108939008   M33 5            D      M  1974-02-25\n",
      "3  1964-06-18  10123457846743    M5 4            F      M  1973-01-07\n",
      "4  1968-10-24  28422585028351   M40 7            D      M  1984-10-18\n",
      "                UID\n",
      "count  2.499000e+03\n",
      "mean   5.028996e+13\n",
      "std    2.891226e+13\n",
      "min    3.569022e+09\n",
      "25%    2.527671e+13\n",
      "50%    5.067687e+13\n",
      "75%    7.545922e+13\n",
      "max    9.996030e+13\n",
      "<class 'pandas.core.frame.DataFrame'>\n",
      "RangeIndex: 2499 entries, 0 to 2498\n",
      "Data columns (total 6 columns):\n",
      "DoB             2499 non-null object\n",
      "UID             2499 non-null int64\n",
      "address         2499 non-null object\n",
      "ethnic_group    2499 non-null object\n",
      "gender          2499 non-null object\n",
      "join_date       2499 non-null object\n",
      "dtypes: int64(1), object(5)\n",
      "memory usage: 117.2+ KB\n",
      "None\n",
      "(2499, 6)\n",
      "Index(['DoB', 'UID', 'address', 'ethnic_group', 'gender', 'join_date'], dtype='object')\n"
     ]
    }
   ],
   "source": [
    "print(borrowers.head())\n",
    "print(borrowers.describe())\n",
    "print(borrowers.info())\n",
    "print(borrowers.shape)\n",
    "print(borrowers.columns)"
   ]
  },
  {
   "cell_type": "markdown",
   "metadata": {},
   "source": [
    "# Examine rentals\n",
    "\n",
    "Observations\n",
    "\n",
    "* join date, date is an object\n",
    "* there are no NaN values"
   ]
  },
  {
   "cell_type": "code",
   "execution_count": 5,
   "metadata": {},
   "outputs": [
    {
     "name": "stdout",
     "output_type": "stream",
     "text": [
      "              UID            book       borrower         out    returned\n",
      "0  67337524405974  61277990803581  6407399394844  2003-02-09  2003-03-01\n",
      "1  86074485118530  63129330503483  6407399394844  1994-05-31  1994-06-24\n",
      "2  83474086825147  14481138517750  6407399394844  2008-06-04  2008-07-01\n",
      "3  48570202472671  31927003009928  6407399394844  1998-04-09  1998-04-18\n",
      "4  36296116903150  19608225871832  6407399394844  2003-07-24  2003-07-31\n",
      "                UID          book      borrower\n",
      "count  8.553160e+05  8.553160e+05  8.553160e+05\n",
      "mean   4.999398e+13  5.093816e+13  4.991703e+13\n",
      "std    2.888149e+13  2.875983e+13  2.886223e+13\n",
      "min    1.657278e+07  5.453121e+10  3.569022e+09\n",
      "25%    2.498286e+13  2.605777e+13  2.478789e+13\n",
      "50%    4.995175e+13  5.172893e+13  5.023728e+13\n",
      "75%    7.501783e+13  7.589374e+13  7.525122e+13\n",
      "max    9.999990e+13  9.996550e+13  9.996030e+13\n",
      "<class 'pandas.core.frame.DataFrame'>\n",
      "RangeIndex: 855316 entries, 0 to 855315\n",
      "Data columns (total 5 columns):\n",
      "UID         855316 non-null int64\n",
      "book        855316 non-null int64\n",
      "borrower    855316 non-null int64\n",
      "out         855316 non-null object\n",
      "returned    855316 non-null object\n",
      "dtypes: int64(3), object(2)\n",
      "memory usage: 32.6+ MB\n",
      "None\n",
      "(855316, 5)\n",
      "Index(['UID', 'book', 'borrower', 'out', 'returned'], dtype='object')\n"
     ]
    }
   ],
   "source": [
    "print(rentals.head())\n",
    "print(rentals.describe())\n",
    "print(rentals.info())\n",
    "print(rentals.shape)\n",
    "print(rentals.columns)"
   ]
  },
  {
   "cell_type": "markdown",
   "metadata": {},
   "source": [
    "# Clean Column Names\n",
    "\n",
    "* column names are inconsistent accross tables"
   ]
  },
  {
   "cell_type": "code",
   "execution_count": 6,
   "metadata": {},
   "outputs": [
    {
     "name": "stdout",
     "output_type": "stream",
     "text": [
      "Index(['uid_rental', 'uid_book', 'uid_borrowers', 'out', 'returned'], dtype='object')\n"
     ]
    }
   ],
   "source": [
    "rentals.columns=['uid_rental','uid_book','uid_borrowers','out','returned']\n",
    "print(rentals.columns)\n"
   ]
  },
  {
   "cell_type": "code",
   "execution_count": 7,
   "metadata": {},
   "outputs": [
    {
     "name": "stdout",
     "output_type": "stream",
     "text": [
      "Index(['UID', 'author', 'length', 'publication_date', 'rental_period',\n",
      "       'subject', 'title'],\n",
      "      dtype='object')\n",
      "Index(['uid_book', 'author', 'length', 'publication_date', 'rental_period',\n",
      "       'subject', 'title'],\n",
      "      dtype='object')\n"
     ]
    }
   ],
   "source": [
    "print(books.columns)\n",
    "books.columns=['uid_book','author','length','publication_date','rental_period','subject','title']\n",
    "print(books.columns)"
   ]
  },
  {
   "cell_type": "code",
   "execution_count": 8,
   "metadata": {},
   "outputs": [
    {
     "name": "stdout",
     "output_type": "stream",
     "text": [
      "Index(['DoB', 'UID', 'address', 'ethnic_group', 'gender', 'join_date'], dtype='object')\n",
      "Index(['dob', 'uid_borrowers', 'address', 'ethnic_group', 'gender',\n",
      "       'join_date'],\n",
      "      dtype='object')\n"
     ]
    }
   ],
   "source": [
    "print(borrowers.columns)\n",
    "borrowers.columns=['dob','uid_borrowers','address','ethnic_group','gender','join_date']\n",
    "print(borrowers.columns)"
   ]
  },
  {
   "cell_type": "markdown",
   "metadata": {},
   "source": [
    "# Merging Dataframes (Combine all)\n",
    "\n",
    "1. firstly, lets merge books and rentals"
   ]
  },
  {
   "cell_type": "code",
   "execution_count": 9,
   "metadata": {},
   "outputs": [],
   "source": [
    "books_rentals = pd.merge(left= rentals, right=books, \n",
    "                                left_on='uid_book', right_on='uid_book')\n",
    "\n",
    "#books_rentals.to_csv('books_rentals.csv') <--did this to take a look in excel"
   ]
  },
  {
   "cell_type": "markdown",
   "metadata": {},
   "source": [
    "2.Merge books_rentals and borrowers dataframes"
   ]
  },
  {
   "cell_type": "code",
   "execution_count": 10,
   "metadata": {},
   "outputs": [],
   "source": [
    "combined = pd.merge(left= books_rentals, right=borrowers, \n",
    "                                left_on='uid_borrowers', right_on='uid_borrowers')\n",
    "#combined.to_csv('combined.csv')\n"
   ]
  },
  {
   "cell_type": "markdown",
   "metadata": {},
   "source": [
    "Just in case the combined dataframe is not easy to work with, lets merge borrowers and rentals"
   ]
  },
  {
   "cell_type": "code",
   "execution_count": 11,
   "metadata": {},
   "outputs": [],
   "source": [
    "borrowers_rentals = pd.merge(left= rentals, right=borrowers, \n",
    "                            left_on='uid_borrowers', right_on='uid_borrowers')"
   ]
  },
  {
   "cell_type": "markdown",
   "metadata": {},
   "source": [
    "# Create Late column (in 'combine' dataframe)\n",
    "1. Convert 'returned' column from object to datetime\n",
    "2. create days_late columns\n",
    "3. create late columns\n",
    "    * if days late is greater than rental period, then late\n",
    "    \n",
    "Note: \n",
    "* Late is True\n",
    "* On Time is False"
   ]
  },
  {
   "cell_type": "code",
   "execution_count": 12,
   "metadata": {},
   "outputs": [
    {
     "name": "stdout",
     "output_type": "stream",
     "text": [
      "0   20 days\n",
      "1   24 days\n",
      "2   27 days\n",
      "3   22 days\n",
      "4    9 days\n",
      "Name: days_late, dtype: timedelta64[ns]\n"
     ]
    }
   ],
   "source": [
    "combined.returned=pd.to_datetime(combined.returned)\n",
    "combined.out=pd.to_datetime(combined.out)\n",
    "combined['days_late']=combined.returned-combined.out\n",
    "\n",
    "print(combined.days_late.head())"
   ]
  },
  {
   "cell_type": "markdown",
   "metadata": {},
   "source": [
    "Note: \n",
    "\n",
    "* We must now make days_late the same dtype as rental_period"
   ]
  },
  {
   "cell_type": "code",
   "execution_count": 13,
   "metadata": {},
   "outputs": [
    {
     "name": "stdout",
     "output_type": "stream",
     "text": [
      "0    20.0\n",
      "1    24.0\n",
      "2    27.0\n",
      "3    22.0\n",
      "4     9.0\n",
      "Name: days_late, dtype: float64\n"
     ]
    }
   ],
   "source": [
    "combined.days_late=combined.days_late.astype(dtype='int64') #this time in nanoseconds\n",
    "combined.days_late=combined.days_late/86400000000000 #there are 8.64e+13 nanoseconds in a day (there must be a better way of doing this)\n",
    "print(combined.days_late.head())"
   ]
  },
  {
   "cell_type": "markdown",
   "metadata": {},
   "source": [
    "Lets create a new columns which returns True or False based on whether the data_late is greater than the rental period"
   ]
  },
  {
   "cell_type": "code",
   "execution_count": 14,
   "metadata": {},
   "outputs": [
    {
     "name": "stdout",
     "output_type": "stream",
     "text": [
      "0    False\n",
      "1    False\n",
      "2    False\n",
      "3    False\n",
      "4     True\n",
      "Name: late, dtype: bool\n"
     ]
    }
   ],
   "source": [
    "#combined['Late']=combined.days_late(lambda x, y: func)\n",
    "\n",
    "combined['late']= combined.days_late>=combined.rental_period\n",
    "print(combined.late.head())\n",
    "\n",
    "#False if the book is returned on time\n",
    "#True if the book is returned late"
   ]
  },
  {
   "cell_type": "code",
   "execution_count": 15,
   "metadata": {},
   "outputs": [
    {
     "name": "stdout",
     "output_type": "stream",
     "text": [
      "       uid_rental        uid_book  uid_borrowers        out   returned  \\\n",
      "0  67337524405974  61277990803581  6407399394844 2003-02-09 2003-03-01   \n",
      "1  86074485118530  63129330503483  6407399394844 1994-05-31 1994-06-24   \n",
      "2  83474086825147  14481138517750  6407399394844 2008-06-04 2008-07-01   \n",
      "3  74692526227755  14481138517750  6407399394844 2008-03-21 2008-04-12   \n",
      "4  48570202472671  31927003009928  6407399394844 1998-04-09 1998-04-18   \n",
      "\n",
      "              author  length publication_date  rental_period        subject  \\\n",
      "0        Donna Adell     343       1979-02-19             30     Historical   \n",
      "1      Steven Briney     235       1980-03-22             30        fantasy   \n",
      "2      Lessie Arnold     364       1926-11-28             30        fantasy   \n",
      "3      Lessie Arnold     364       1926-11-28             30        fantasy   \n",
      "4  Jerri Vandenbosch     232       1966-02-19              7  SHORT STORIES   \n",
      "\n",
      "                                            title         dob address  \\\n",
      "0     Lundberg cretinous Anne sedimentation ashen  1964-05-26    M1 2   \n",
      "1                   hinge Anatole wolve messieurs  1964-05-26    M1 2   \n",
      "2                        trick lightning impunity  1964-05-26    M1 2   \n",
      "3                        trick lightning impunity  1964-05-26    M1 2   \n",
      "4  cherub placid computation impassive Eric Wyner  1964-05-26    M1 2   \n",
      "\n",
      "  ethnic_group gender   join_date  days_late   late  \n",
      "0            D      M  1981-08-20       20.0  False  \n",
      "1            D      M  1981-08-20       24.0  False  \n",
      "2            D      M  1981-08-20       27.0  False  \n",
      "3            D      M  1981-08-20       22.0  False  \n",
      "4            D      M  1981-08-20        9.0   True  \n"
     ]
    }
   ],
   "source": [
    "print(combined.head()) #looking at the late column, and spot checking the csv file it seems to have done the trick."
   ]
  },
  {
   "cell_type": "markdown",
   "metadata": {},
   "source": [
    "# Create age column (from date of birth) \n",
    "\n",
    "(in combined dataframe)"
   ]
  },
  {
   "cell_type": "code",
   "execution_count": 16,
   "metadata": {},
   "outputs": [
    {
     "data": {
      "text/plain": [
       "0    1964-05-26\n",
       "1    1964-05-26\n",
       "2    1964-05-26\n",
       "3    1964-05-26\n",
       "4    1964-05-26\n",
       "Name: dob, dtype: object"
      ]
     },
     "execution_count": 16,
     "metadata": {},
     "output_type": "execute_result"
    }
   ],
   "source": [
    "combined.dob.dtypes #here we discover dob is an object\n",
    "combined.dob.head()"
   ]
  },
  {
   "cell_type": "code",
   "execution_count": 17,
   "metadata": {},
   "outputs": [
    {
     "data": {
      "text/plain": [
       "0   1964-05-26\n",
       "1   1964-05-26\n",
       "2   1964-05-26\n",
       "3   1964-05-26\n",
       "4   1964-05-26\n",
       "Name: dob, dtype: datetime64[ns]"
      ]
     },
     "execution_count": 17,
     "metadata": {},
     "output_type": "execute_result"
    }
   ],
   "source": [
    "combined.dob=pd.to_datetime(combined.dob)\n",
    "combined.dob.head()"
   ]
  },
  {
   "cell_type": "code",
   "execution_count": 18,
   "metadata": {},
   "outputs": [
    {
     "data": {
      "text/plain": [
       "0    54\n",
       "1    54\n",
       "2    54\n",
       "3    54\n",
       "4    54\n",
       "Name: age, dtype: int64"
      ]
     },
     "execution_count": 18,
     "metadata": {},
     "output_type": "execute_result"
    }
   ],
   "source": [
    "from datetime import datetime\n",
    "from datetime import date\n",
    "\n",
    "def calculate_age(born):\n",
    "    #born = datetime.strptime(born, \"%Y-%m-%d\").date()\n",
    "    today = date.today()\n",
    "    return today.year - born.year - ((today.month, today.day) < (born.month, born.day))\n",
    "\n",
    "combined['age'] = combined.dob.apply(calculate_age)\n",
    "\n",
    "combined.age.head()\n"
   ]
  },
  {
   "cell_type": "code",
   "execution_count": 19,
   "metadata": {},
   "outputs": [],
   "source": [
    "combined.to_csv('combined.csv') "
   ]
  },
  {
   "cell_type": "markdown",
   "metadata": {},
   "source": [
    "# create age and late column in borrowers_rentals data frame\n",
    "\n",
    "    so it turns out combinig all the dataframes made analysing the borrower table more difficult"
   ]
  },
  {
   "cell_type": "code",
   "execution_count": 20,
   "metadata": {},
   "outputs": [
    {
     "data": {
      "text/html": [
       "<div>\n",
       "<style scoped>\n",
       "    .dataframe tbody tr th:only-of-type {\n",
       "        vertical-align: middle;\n",
       "    }\n",
       "\n",
       "    .dataframe tbody tr th {\n",
       "        vertical-align: top;\n",
       "    }\n",
       "\n",
       "    .dataframe thead th {\n",
       "        text-align: right;\n",
       "    }\n",
       "</style>\n",
       "<table border=\"1\" class=\"dataframe\">\n",
       "  <thead>\n",
       "    <tr style=\"text-align: right;\">\n",
       "      <th></th>\n",
       "      <th>uid_rental</th>\n",
       "      <th>uid_book</th>\n",
       "      <th>uid_borrowers</th>\n",
       "      <th>out</th>\n",
       "      <th>returned</th>\n",
       "      <th>dob</th>\n",
       "      <th>address</th>\n",
       "      <th>ethnic_group</th>\n",
       "      <th>gender</th>\n",
       "      <th>join_date</th>\n",
       "      <th>days_late</th>\n",
       "      <th>late</th>\n",
       "      <th>age</th>\n",
       "    </tr>\n",
       "  </thead>\n",
       "  <tbody>\n",
       "    <tr>\n",
       "      <th>0</th>\n",
       "      <td>67337524405974</td>\n",
       "      <td>61277990803581</td>\n",
       "      <td>6407399394844</td>\n",
       "      <td>2003-02-09</td>\n",
       "      <td>2003-03-01</td>\n",
       "      <td>1964-05-26</td>\n",
       "      <td>M1 2</td>\n",
       "      <td>D</td>\n",
       "      <td>M</td>\n",
       "      <td>1981-08-20</td>\n",
       "      <td>20 days</td>\n",
       "      <td>False</td>\n",
       "      <td>54</td>\n",
       "    </tr>\n",
       "    <tr>\n",
       "      <th>1</th>\n",
       "      <td>86074485118530</td>\n",
       "      <td>63129330503483</td>\n",
       "      <td>6407399394844</td>\n",
       "      <td>1994-05-31</td>\n",
       "      <td>1994-06-24</td>\n",
       "      <td>1964-05-26</td>\n",
       "      <td>M1 2</td>\n",
       "      <td>D</td>\n",
       "      <td>M</td>\n",
       "      <td>1981-08-20</td>\n",
       "      <td>24 days</td>\n",
       "      <td>False</td>\n",
       "      <td>54</td>\n",
       "    </tr>\n",
       "    <tr>\n",
       "      <th>2</th>\n",
       "      <td>83474086825147</td>\n",
       "      <td>14481138517750</td>\n",
       "      <td>6407399394844</td>\n",
       "      <td>2008-06-04</td>\n",
       "      <td>2008-07-01</td>\n",
       "      <td>1964-05-26</td>\n",
       "      <td>M1 2</td>\n",
       "      <td>D</td>\n",
       "      <td>M</td>\n",
       "      <td>1981-08-20</td>\n",
       "      <td>27 days</td>\n",
       "      <td>False</td>\n",
       "      <td>54</td>\n",
       "    </tr>\n",
       "    <tr>\n",
       "      <th>3</th>\n",
       "      <td>48570202472671</td>\n",
       "      <td>31927003009928</td>\n",
       "      <td>6407399394844</td>\n",
       "      <td>2008-03-21</td>\n",
       "      <td>2008-04-12</td>\n",
       "      <td>1964-05-26</td>\n",
       "      <td>M1 2</td>\n",
       "      <td>D</td>\n",
       "      <td>M</td>\n",
       "      <td>1981-08-20</td>\n",
       "      <td>22 days</td>\n",
       "      <td>False</td>\n",
       "      <td>54</td>\n",
       "    </tr>\n",
       "    <tr>\n",
       "      <th>4</th>\n",
       "      <td>36296116903150</td>\n",
       "      <td>19608225871832</td>\n",
       "      <td>6407399394844</td>\n",
       "      <td>1998-04-09</td>\n",
       "      <td>1998-04-18</td>\n",
       "      <td>1964-05-26</td>\n",
       "      <td>M1 2</td>\n",
       "      <td>D</td>\n",
       "      <td>M</td>\n",
       "      <td>1981-08-20</td>\n",
       "      <td>9 days</td>\n",
       "      <td>True</td>\n",
       "      <td>54</td>\n",
       "    </tr>\n",
       "  </tbody>\n",
       "</table>\n",
       "</div>"
      ],
      "text/plain": [
       "       uid_rental        uid_book  uid_borrowers        out   returned  \\\n",
       "0  67337524405974  61277990803581  6407399394844 2003-02-09 2003-03-01   \n",
       "1  86074485118530  63129330503483  6407399394844 1994-05-31 1994-06-24   \n",
       "2  83474086825147  14481138517750  6407399394844 2008-06-04 2008-07-01   \n",
       "3  48570202472671  31927003009928  6407399394844 2008-03-21 2008-04-12   \n",
       "4  36296116903150  19608225871832  6407399394844 1998-04-09 1998-04-18   \n",
       "\n",
       "         dob address ethnic_group gender   join_date days_late   late  age  \n",
       "0 1964-05-26    M1 2            D      M  1981-08-20   20 days  False   54  \n",
       "1 1964-05-26    M1 2            D      M  1981-08-20   24 days  False   54  \n",
       "2 1964-05-26    M1 2            D      M  1981-08-20   27 days  False   54  \n",
       "3 1964-05-26    M1 2            D      M  1981-08-20   22 days  False   54  \n",
       "4 1964-05-26    M1 2            D      M  1981-08-20    9 days   True   54  "
      ]
     },
     "execution_count": 20,
     "metadata": {},
     "output_type": "execute_result"
    }
   ],
   "source": [
    "\n",
    "#creates new late column \n",
    "borrowers_rentals.returned=pd.to_datetime(combined.returned)\n",
    "borrowers_rentals.out=pd.to_datetime(combined.out)\n",
    "borrowers_rentals['days_late']=combined.returned-combined.out\n",
    "borrowers_rentals['late']= combined.days_late>=combined.rental_period\n",
    "\n",
    "\n",
    "borrowers_rentals.dob=pd.to_datetime(borrowers_rentals.dob)\n",
    "from datetime import datetime\n",
    "from datetime import date\n",
    "\n",
    "def calculate_age(born):\n",
    "    #born = datetime.strptime(born, \"%Y-%m-%d\").date()\n",
    "    today = date.today()\n",
    "    return today.year - born.year - ((today.month, today.day) < (born.month, born.day))\n",
    "\n",
    "borrowers_rentals['age'] = borrowers_rentals.dob.apply(calculate_age)\n",
    "\n",
    "\n",
    "borrowers_rentals.head()"
   ]
  }
 ],
 "metadata": {
  "kernelspec": {
   "display_name": "Python 3",
   "language": "python",
   "name": "python3"
  },
  "language_info": {
   "codemirror_mode": {
    "name": "ipython",
    "version": 3
   },
   "file_extension": ".py",
   "mimetype": "text/x-python",
   "name": "python",
   "nbconvert_exporter": "python",
   "pygments_lexer": "ipython3",
   "version": "3.6.5"
  }
 },
 "nbformat": 4,
 "nbformat_minor": 2
}
